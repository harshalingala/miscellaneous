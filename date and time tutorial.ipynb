{
 "cells": [
  {
   "cell_type": "markdown",
   "id": "62617092",
   "metadata": {},
   "source": [
    "# date and time on python\n",
    "#### Agenda:\n",
    "- The time module\n",
    "- Built-in functions\n",
    "- Examples\n",
    "- The datetime module\n",
    "- Built-in functions\n",
    "- Examples"
   ]
  },
  {
   "cell_type": "markdown",
   "id": "0042695d",
   "metadata": {},
   "source": [
    "# Time module\n",
    "- Time module contains all time related functions that are needed to perform various time related operations.\n",
    "- It begins recording time since epoch time (00:00:00, 1st Jan 1970)"
   ]
  },
  {
   "cell_type": "code",
   "execution_count": 1,
   "id": "a5142989",
   "metadata": {},
   "outputs": [],
   "source": [
    "import time"
   ]
  },
  {
   "cell_type": "code",
   "execution_count": 3,
   "id": "d7d8e74c",
   "metadata": {},
   "outputs": [
    {
     "data": {
      "text/plain": [
       "1682872566.6832578"
      ]
     },
     "execution_count": 3,
     "metadata": {},
     "output_type": "execute_result"
    }
   ],
   "source": [
    "# time function returns number of seconds since epoch time\n",
    "time.time()"
   ]
  },
  {
   "cell_type": "code",
   "execution_count": 5,
   "id": "02e8e2b8",
   "metadata": {},
   "outputs": [
    {
     "data": {
      "text/plain": [
       "'Sun Apr 30 22:06:32 2023'"
      ]
     },
     "execution_count": 5,
     "metadata": {},
     "output_type": "execute_result"
    }
   ],
   "source": [
    "# ctime method return current time and date\n",
    "time.ctime()"
   ]
  },
  {
   "cell_type": "code",
   "execution_count": 6,
   "id": "b662b2f5",
   "metadata": {},
   "outputs": [],
   "source": [
    "# sleep method stops the execution for the given duration\n",
    "time.sleep(10)"
   ]
  },
  {
   "cell_type": "code",
   "execution_count": 8,
   "id": "0b34f262",
   "metadata": {},
   "outputs": [
    {
     "data": {
      "text/plain": [
       "time.struct_time(tm_year=2023, tm_mon=4, tm_mday=30, tm_hour=22, tm_min=8, tm_sec=14, tm_wday=6, tm_yday=120, tm_isdst=0)"
      ]
     },
     "execution_count": 8,
     "metadata": {},
     "output_type": "execute_result"
    }
   ],
   "source": [
    "# localtime method returns date and time in time_struct format\n",
    "time.localtime()"
   ]
  },
  {
   "cell_type": "code",
   "execution_count": 9,
   "id": "71c7afad",
   "metadata": {},
   "outputs": [
    {
     "data": {
      "text/plain": [
       "time.struct_time(tm_year=2023, tm_mon=4, tm_mday=30, tm_hour=16, tm_min=38, tm_sec=58, tm_wday=6, tm_yday=120, tm_isdst=0)"
      ]
     },
     "execution_count": 9,
     "metadata": {},
     "output_type": "execute_result"
    }
   ],
   "source": [
    "# gmtime method returns time.struct_time in UTC format\n",
    "time.gmtime()"
   ]
  },
  {
   "cell_type": "code",
   "execution_count": 12,
   "id": "085ea24a",
   "metadata": {},
   "outputs": [
    {
     "data": {
      "text/plain": [
       "1682852989.0"
      ]
     },
     "execution_count": 12,
     "metadata": {},
     "output_type": "execute_result"
    }
   ],
   "source": [
    "# inverse of localtime method, it takes time_struct tuple as input and returns seconds\n",
    "time.mktime(time.gmtime())"
   ]
  },
  {
   "cell_type": "code",
   "execution_count": 13,
   "id": "c2830326",
   "metadata": {},
   "outputs": [
    {
     "data": {
      "text/plain": [
       "'Sun Apr 30 22:11:32 2023'"
      ]
     },
     "execution_count": 13,
     "metadata": {},
     "output_type": "execute_result"
    }
   ],
   "source": [
    "#asctime method return time in string format\n",
    "time.asctime()"
   ]
  },
  {
   "cell_type": "code",
   "execution_count": 19,
   "id": "6ff072c5",
   "metadata": {},
   "outputs": [
    {
     "data": {
      "text/plain": [
       "'04/30/23'"
      ]
     },
     "execution_count": 19,
     "metadata": {},
     "output_type": "execute_result"
    }
   ],
   "source": [
    "# returns time as string in the specified format\n",
    "time.strftime(\"%m/%d/%y\")"
   ]
  },
  {
   "cell_type": "code",
   "execution_count": 22,
   "id": "4efc6517",
   "metadata": {
    "scrolled": true
   },
   "outputs": [
    {
     "data": {
      "text/plain": [
       "time.struct_time(tm_year=2023, tm_mon=4, tm_mday=30, tm_hour=0, tm_min=0, tm_sec=0, tm_wday=6, tm_yday=120, tm_isdst=-1)"
      ]
     },
     "execution_count": 22,
     "metadata": {},
     "output_type": "execute_result"
    }
   ],
   "source": [
    "time.strptime('04/30/23',\"%m/%d/%y\")"
   ]
  },
  {
   "cell_type": "markdown",
   "id": "6766103a",
   "metadata": {},
   "source": [
    "# Datetime module\n",
    "- datetime module contains the methods that are needed to work with date and time"
   ]
  },
  {
   "cell_type": "code",
   "execution_count": 23,
   "id": "ecbc50b0",
   "metadata": {},
   "outputs": [],
   "source": [
    "import datetime"
   ]
  },
  {
   "cell_type": "code",
   "execution_count": 35,
   "id": "3bde6335",
   "metadata": {},
   "outputs": [
    {
     "name": "stdout",
     "output_type": "stream",
     "text": [
      "2019-06-07 04:30:54.000678\n"
     ]
    }
   ],
   "source": [
    "#datetime is a constructor the can take date and time as input.\n",
    "print(datetime.datetime(2019,6,7,4,30,54,678))"
   ]
  },
  {
   "cell_type": "code",
   "execution_count": 37,
   "id": "cde53538",
   "metadata": {},
   "outputs": [
    {
     "data": {
      "text/plain": [
       "datetime.datetime(2023, 4, 30, 23, 32, 32, 608957)"
      ]
     },
     "execution_count": 37,
     "metadata": {},
     "output_type": "execute_result"
    }
   ],
   "source": [
    "# today method can be used to get date\n",
    "datetime.datetime.today()"
   ]
  },
  {
   "cell_type": "code",
   "execution_count": 44,
   "id": "96cc1eac",
   "metadata": {},
   "outputs": [
    {
     "name": "stdout",
     "output_type": "stream",
     "text": [
      "Year:  2023\n",
      "month:  4\n",
      "day:  30\n"
     ]
    }
   ],
   "source": [
    "#now method can also be used to get the datetime\n",
    "v=datetime.datetime.now()\n",
    "print('Year: ',v.year)\n",
    "print('month: ',v.month)\n",
    "print('day: ',v.day)"
   ]
  },
  {
   "cell_type": "code",
   "execution_count": 46,
   "id": "417a9d60",
   "metadata": {},
   "outputs": [],
   "source": [
    "b=datetime.timedelta(days=10)"
   ]
  },
  {
   "cell_type": "code",
   "execution_count": 53,
   "id": "85ffefcc",
   "metadata": {},
   "outputs": [
    {
     "data": {
      "text/plain": [
       "datetime.datetime(2023, 5, 10, 23, 39, 55, 769191)"
      ]
     },
     "execution_count": 53,
     "metadata": {},
     "output_type": "execute_result"
    }
   ],
   "source": [
    "datetime.datetime.now()+b"
   ]
  },
  {
   "cell_type": "code",
   "execution_count": null,
   "id": "2ca4f7eb",
   "metadata": {},
   "outputs": [],
   "source": []
  }
 ],
 "metadata": {
  "kernelspec": {
   "display_name": "Python 3",
   "language": "python",
   "name": "python3"
  },
  "language_info": {
   "codemirror_mode": {
    "name": "ipython",
    "version": 3
   },
   "file_extension": ".py",
   "mimetype": "text/x-python",
   "name": "python",
   "nbconvert_exporter": "python",
   "pygments_lexer": "ipython3",
   "version": "3.8.8"
  }
 },
 "nbformat": 4,
 "nbformat_minor": 5
}
